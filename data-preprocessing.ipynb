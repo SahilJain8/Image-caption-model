{
 "cells": [
  {
   "cell_type": "code",
   "execution_count": 5,
   "id": "a48d244f-ade8-45cc-b2e8-2d7cca9ecc3a",
   "metadata": {},
   "outputs": [],
   "source": [
    "import numpy as np\n",
    "import os\n",
    "from tqdm import tqdm\n",
    "from tensorflow.keras.preprocessing.text import Tokenizer\n",
    "from tensorflow.keras.utils import load_img,img_to_array \n",
    "from tensorflow.keras.applications.resnet50 import preprocess_input,ResNet50"
   ]
  },
  {
   "cell_type": "code",
   "execution_count": null,
   "id": "670558d8-0fd4-4896-9836-46c5f6c9b48e",
   "metadata": {},
   "outputs": [],
   "source": []
  }
 ],
 "metadata": {
  "kernelspec": {
   "display_name": "Python 3 (ipykernel)",
   "language": "python",
   "name": "python3"
  },
  "language_info": {
   "codemirror_mode": {
    "name": "ipython",
    "version": 3
   },
   "file_extension": ".py",
   "mimetype": "text/x-python",
   "name": "python",
   "nbconvert_exporter": "python",
   "pygments_lexer": "ipython3",
   "version": "3.9.0"
  }
 },
 "nbformat": 4,
 "nbformat_minor": 5
}
